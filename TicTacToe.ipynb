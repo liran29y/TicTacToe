{
 "cells": [
  {
   "cell_type": "code",
   "execution_count": 1,
   "metadata": {},
   "outputs": [],
   "source": [
    "import random\n",
    "from IPython.display import clear_output\n",
    "\n",
    "# board print\n",
    "def board_print(x):\n",
    "    clear_output()  # this only works in jupyter!\n",
    "    print ( x[1],\" | \",x[2],\" | \",x[3])\n",
    "    print(\"--------------\")\n",
    "    print ( x[4],\" | \",x[5],\" | \",x[6])\n",
    "    print(\"--------------\")\n",
    "    print ( x[7],\" | \",x[8],\" | \",x[9])\n",
    "    \n",
    "# clear the board\n",
    "def clr_board(board):\n",
    "    for i in range (1,10):\n",
    "        x[i]=\" \"\n",
    "\n",
    "def position(pos,c_player,x):\n",
    "    if c_player == player_1:\n",
    "        x[pos]=player_1\n",
    "        \n",
    "    if c_player == player_2:\n",
    "        x[pos]=player_2\n",
    "    board_print(x)\n",
    "    \n",
    "def pos_check(pos,x):\n",
    "    if \"X\"==x[pos] or \"O\"==x[pos]:\n",
    "        return True\n",
    "    else:\n",
    "        return False\n",
    "\n",
    "def win_check(c_player, x):\n",
    "    T = c_player\n",
    "    #horizon check\n",
    "    if x[1]==T and x[2]==T and x[3]==T:\n",
    "        return True\n",
    "    elif x[4]==T and x[5]==T and x[6]==T:\n",
    "        return True\n",
    "    elif x[7]==T and x[8]==T and x[9]==T:\n",
    "        return True\n",
    "    #vertical check\n",
    "    elif x[1]==T and x[4]==T and x[7]==T:\n",
    "        return True\n",
    "    elif x[2]==T and x[5]==T and x[8]==T:\n",
    "        return True\n",
    "    elif x[3]==T and x[6]==T and x[9]==T:\n",
    "        return True\n",
    "    #cross check\n",
    "    elif x[1]==T and x[5]==T and x[9]==T:\n",
    "        return True\n",
    "    elif x[3]==T and x[5]==T and x[7]==T:\n",
    "        return True\n",
    "    else:\n",
    "        return False    "
   ]
  },
  {
   "cell_type": "code",
   "execution_count": 4,
   "metadata": {},
   "outputs": [
    {
     "name": "stdout",
     "output_type": "stream",
     "text": [
      "O  |  X  |  X\n",
      "--------------\n",
      "   |  O  |   \n",
      "--------------\n",
      "   |     |  O\n",
      "O is the winner\n"
     ]
    },
    {
     "name": "stdin",
     "output_type": "stream",
     "text": [
      "Want another game? enter yes or no no\n"
     ]
    },
    {
     "name": "stdout",
     "output_type": "stream",
     "text": [
      "Bye bye\n"
     ]
    }
   ],
   "source": [
    "x=[\"@\",\" \",\" \",\" \",\" \",\" \",\" \",\" \",\" \",\" \"]\n",
    "game_on=True\n",
    "re_game = True\n",
    "# run the game\n",
    "while re_game == True:\n",
    "    clr_board(x)\n",
    "    board_print(x)\n",
    "    player_1,player_2 = \"X\",\"O\"\n",
    "    c_player=random.choice([player_1,player_2])\n",
    "    game_on = True\n",
    "    \n",
    "    while game_on == True:\n",
    "        pos=int(input(\"Player {} please choose your position:\\n\".format(c_player)))\n",
    "        while pos not in range(1,10):\n",
    "            pos=int(input(\"Player {} please enter an integer:\\n\".format(c_player)))\n",
    "        \n",
    "        while pos_check(pos,x)==True:\n",
    "            pos=int(input(\"The position if full please try another one:\\n\"))\n",
    "        position(pos,c_player,x)\n",
    "        if win_check(c_player,x)==True:\n",
    "            print(\"{} is the winner\".format(c_player))\n",
    "            re = input(\"Want another game? enter yes or no\")\n",
    "            if re == \"yes\":\n",
    "                game_on = False\n",
    "            else:\n",
    "                re_game = False\n",
    "                print(\"Bye bye\")\n",
    "                break\n",
    "        if c_player == player_1:\n",
    "            c_player = player_2\n",
    "        elif c_player == player_2:\n",
    "            c_player = player_1"
   ]
  }
 ],
 "metadata": {
  "kernelspec": {
   "display_name": "Python 3",
   "language": "python",
   "name": "python3"
  },
  "language_info": {
   "codemirror_mode": {
    "name": "ipython",
    "version": 3
   },
   "file_extension": ".py",
   "mimetype": "text/x-python",
   "name": "python",
   "nbconvert_exporter": "python",
   "pygments_lexer": "ipython3",
   "version": "3.8.5"
  }
 },
 "nbformat": 4,
 "nbformat_minor": 4
}
